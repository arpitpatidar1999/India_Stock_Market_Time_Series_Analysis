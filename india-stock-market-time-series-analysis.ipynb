{
 "cells": [
  {
   "cell_type": "markdown",
   "id": "575a533b",
   "metadata": {
    "papermill": {
     "duration": 0.007451,
     "end_time": "2022-09-11T15:06:01.412318",
     "exception": false,
     "start_time": "2022-09-11T15:06:01.404867",
     "status": "completed"
    },
    "tags": []
   },
   "source": [
    "Simple regression problems have particular set of data and we try to predict new values from the same set of data which is called **Interpolation**\n",
    "\n",
    "In Time Series we have a particular set of data which is in terms of time in the past and based on that we need to predic the future data points which are totally unknown called as **Extrapolation**\n",
    "\n",
    "### Time Series Important Points\n",
    "\n",
    "1. parse_dates --> argument in the read_csv() - gives us the option to convert the column containing date to convert into date\n",
    "2. index_col --> argument in the read_csv() - gives us the option to convert the date column into index column\n",
    "3. If for some reason the date format is very weird we can use <br>\n",
    "    from datetime import datetime<br>\n",
    "    dateparse = lambda x: datetime.strptime(x, '%Y-%m-%d %H:%M:%S')<br>\n",
    "    df = pd.read_csv(infile, parse_dates={'datetime': ['date', 'time']}, date_parser=dateparse)\n",
    "    \n",
    "4. Mainly Line Charts are used in case of Time series data.\n",
    "5. df['Close'].resample('D') --> what does it do - ?? --> resamples the given data based on our requirement of D, M, Y, Q, W\n",
    "\n",
    "\n",
    "### Time Resampling\n",
    "- Works same as group by with time series.\n",
    "- We can provide the rule for the frequency for which we want to analyze the data\n",
    "\n",
    "D -->        calendar day frequency<br>\n",
    "W  -->       weekly frequency<br>\n",
    "M     -->    month end frequency<br>\n",
    "https://pandas.pydata.org/pandas-docs/stable/user_guide/timeseries.html#resampling\n",
    "- We can also create our own custom resampling functions and apply to the resampled data\n",
    "\n",
    "\n",
    "### Important Functions in Pandas for Time Series\n",
    "#### Time Shifting\n",
    "- df.shift(x) - shifts the dataframe values down for x places - we can move up by giving negative numbers as well.\n",
    "- We can also provide frequency in case we want to not only move by days but by weeks or months\n",
    "\n",
    "#### Rolling in Pandas\n",
    "- df.rolling(window = x)\n",
    "- Calculates the rolling mean for x number of days - we will have first x-1 values as NaN\n",
    "\n",
    "#### Expanding in Pandas\n",
    "- df.expanding(min_periods = 1)\n",
    "- It calculates the statistic till the given time periods - like cumulative sum/mean/std etc for given data"
   ]
  },
  {
   "cell_type": "code",
   "execution_count": 1,
   "id": "2cdc7468",
   "metadata": {
    "execution": {
     "iopub.execute_input": "2022-09-11T15:06:01.426403Z",
     "iopub.status.busy": "2022-09-11T15:06:01.425847Z",
     "iopub.status.idle": "2022-09-11T15:06:03.313766Z",
     "shell.execute_reply": "2022-09-11T15:06:03.312653Z"
    },
    "papermill": {
     "duration": 1.898326,
     "end_time": "2022-09-11T15:06:03.316692",
     "exception": false,
     "start_time": "2022-09-11T15:06:01.418366",
     "status": "completed"
    },
    "tags": []
   },
   "outputs": [],
   "source": [
    "import pandas as pd\n",
    "import numpy as np\n",
    "import matplotlib.pyplot as plt\n",
    "import warnings\n",
    "from statsmodels.tsa.filters.hp_filter import hpfilter\n",
    "from statsmodels.tsa.seasonal import seasonal_decompose\n",
    "from statsmodels.tsa.holtwinters import SimpleExpSmoothing, ExponentialSmoothing\n",
    "from pylab import rcParams\n",
    "from sklearn.metrics import mean_absolute_error,mean_squared_error\n",
    "import statsmodels.api as sm\n",
    "from statsmodels.tsa.stattools import acovf,acf,pacf,pacf_yw,pacf_ols,adfuller\n",
    "from pandas.plotting import lag_plot\n",
    "from statsmodels.graphics.tsaplots import plot_acf,plot_pacf\n",
    "from statsmodels.tsa.ar_model import AutoReg,AutoRegResults,ar_select_order\n",
    "from time import time\n",
    "from datetime import datetime, timedelta\n",
    "from statsmodels.tsa.arima_model import ARMA,ARIMA\n",
    "warnings.filterwarnings('ignore')"
   ]
  },
  {
   "cell_type": "code",
   "execution_count": 2,
   "id": "88ba6a94",
   "metadata": {
    "execution": {
     "iopub.execute_input": "2022-09-11T15:06:03.327745Z",
     "iopub.status.busy": "2022-09-11T15:06:03.327004Z",
     "iopub.status.idle": "2022-09-11T15:06:03.379574Z",
     "shell.execute_reply": "2022-09-11T15:06:03.378562Z"
    },
    "papermill": {
     "duration": 0.061033,
     "end_time": "2022-09-11T15:06:03.381988",
     "exception": false,
     "start_time": "2022-09-11T15:06:03.320955",
     "status": "completed"
    },
    "tags": []
   },
   "outputs": [],
   "source": [
    "df = pd.read_csv(\"../input/nifty50-stock-market-data/SBIN.csv\",parse_dates=['Date'], index_col= ['Date'])\n"
   ]
  },
  {
   "cell_type": "code",
   "execution_count": 3,
   "id": "86c306ae",
   "metadata": {
    "execution": {
     "iopub.execute_input": "2022-09-11T15:06:03.392314Z",
     "iopub.status.busy": "2022-09-11T15:06:03.391729Z",
     "iopub.status.idle": "2022-09-11T15:06:03.750954Z",
     "shell.execute_reply": "2022-09-11T15:06:03.750116Z"
    },
    "papermill": {
     "duration": 0.366902,
     "end_time": "2022-09-11T15:06:03.753115",
     "exception": false,
     "start_time": "2022-09-11T15:06:03.386213",
     "status": "completed"
    },
    "scrolled": true,
    "tags": []
   },
   "outputs": [
    {
     "data": {
      "text/plain": [
       "<AxesSubplot:xlabel='Date'>"
      ]
     },
     "execution_count": 3,
     "metadata": {},
     "output_type": "execute_result"
    },
    {
     "data": {
      "image/png": "[encoded data removed]",
      "text/plain": [
       "<Figure size 432x288 with 1 Axes>"
      ]
     },
     "metadata": {
      "needs_background": "light"
     },
     "output_type": "display_data"
    }
   ],
   "source": [
    "#Plotting the data for stock over time\n",
    "df['Close'].plot()"
   ]
  },
  {
   "cell_type": "markdown",
   "id": "1790f943",
   "metadata": {
    "papermill": {
     "duration": 0.0045,
     "end_time": "2022-09-11T15:06:03.762560",
     "exception": false,
     "start_time": "2022-09-11T15:06:03.758060",
     "status": "completed"
    },
    "tags": []
   },
   "source": [
    "### ACF(Auto Correlation Fuction) and PACF(Partial Auto Correlation Fuction)\n",
    "\n",
    "$S_{t}$ --> data for today<br>\n",
    "$S_{t-1}$ --> data from 1 day before<br>\n",
    "$S_{t-2}$ --> data from 2 days before<br>\n",
    "\n",
    "ACF and PACF are majorly used to find the correlation between the past data points to current data points.\n",
    "\n",
    "##### In ACF for any lag(smallest number of units we are looking in the past) we are considering the data we check the correlation between each intermediate data points and describe the relationship in this plot\n",
    "\n",
    "##### In PACF we do not care for intermediate correlation we check direct correlation between two data that the shorter lags between those observations do not explain.\n",
    "\n",
    "\n",
    "> **A rule of thumb in any time series modelling is that we work with only stationary time series. If the series exhibits any non-stationarity, we have to remove that before we can employ any empirical analysis.**\n",
    "\n",
    "\n",
    "### Stationarity\n",
    "#### What is mean by Stationarity ?\n",
    "Stationary data means data which have \n",
    "µ - mean - constant\n",
    "σ - standard deviation - constant\n",
    "No seasonality present in the data. Means there are no regular and predictable changes that reocur every calendar year\n",
    "\n",
    "\n",
    "#### Unit Roots\n",
    "If the time series data has unit root then it is not stationary. Name unit root comes from the mathematical definition of it. It becomes imperative to remove the unit root from the data so that data becomes stationary and analysis and forecasting issues are taken care.\n",
    "\n",
    "#### Checking for Stationarity\n",
    "1. Visually - observing the data \n",
    "2. ADF test - (Augmented Dickey Fuller Test)\n",
    "\n",
    "#### Converting Time Series into Stationary data\n",
    "- Log transforming of the data\n",
    "- Taking the square root of the data\n",
    "- Taking the cube root\n",
    "- Proportional change"
   ]
  },
  {
   "cell_type": "code",
   "execution_count": 4,
   "id": "41a795b3",
   "metadata": {
    "execution": {
     "iopub.execute_input": "2022-09-11T15:06:03.774329Z",
     "iopub.status.busy": "2022-09-11T15:06:03.773620Z",
     "iopub.status.idle": "2022-09-11T15:06:04.288070Z",
     "shell.execute_reply": "2022-09-11T15:06:04.286770Z"
    },
    "papermill": {
     "duration": 0.523282,
     "end_time": "2022-09-11T15:06:04.290565",
     "exception": false,
     "start_time": "2022-09-11T15:06:03.767283",
     "status": "completed"
    },
    "tags": []
   },
   "outputs": [
    {
     "data": {
      "image/png": "[encoded data removed]",
      "text/plain": [
       "<Figure size 432x288 with 1 Axes>"
      ]
     },
     "metadata": {
      "needs_background": "light"
     },
     "output_type": "display_data"
    },
    {
     "data": {
      "image/png": "[encoded data removed]",
      "text/plain": [
       "<Figure size 432x288 with 1 Axes>"
      ]
     },
     "metadata": {
      "needs_background": "light"
     },
     "output_type": "display_data"
    }
   ],
   "source": [
    "plot_acf(df['Close'],lags = 15);\n",
    "plot_pacf(df['Close'],lags = 15);"
   ]
  },
  {
   "cell_type": "code",
   "execution_count": 5,
   "id": "7dda431d",
   "metadata": {
    "execution": {
     "iopub.execute_input": "2022-09-11T15:06:04.304355Z",
     "iopub.status.busy": "2022-09-11T15:06:04.303050Z",
     "iopub.status.idle": "2022-09-11T15:06:04.311664Z",
     "shell.execute_reply": "2022-09-11T15:06:04.310554Z"
    },
    "papermill": {
     "duration": 0.018225,
     "end_time": "2022-09-11T15:06:04.314428",
     "exception": false,
     "start_time": "2022-09-11T15:06:04.296203",
     "status": "completed"
    },
    "tags": []
   },
   "outputs": [],
   "source": [
    "def adf_test(series):\n",
    "    '''\n",
    "    **Perform Dickey-Fuller Test\n",
    "    \n",
    "    1. Test for the stationarity of the data\n",
    "    2. Provide series of Non null data and it returns the statistic and p-value\n",
    "       with message to accept or reject the null hypothesis and stationarity of the data\n",
    "    '''\n",
    "    result = adfuller(series.dropna())\n",
    "    labels = ['ADF Test Statistic','p-value','# Used Lag','# Number of Observations']\n",
    "    adf_test_stats = pd.DataFrame(result[0:4],index = labels)\n",
    "    print(adf_test_stats[0])\n",
    "    \n",
    "    if result[1] < 0.05:\n",
    "        print(\"Reject the Null hypothesis\")\n",
    "        print(\"Data is Stationary\")\n",
    "    else:\n",
    "        print(\"Failed to reject the null hypothesis\")\n",
    "        print(\"Data is not Stationary\")"
   ]
  },
  {
   "cell_type": "code",
   "execution_count": 6,
   "id": "337a7140",
   "metadata": {
    "execution": {
     "iopub.execute_input": "2022-09-11T15:06:04.327643Z",
     "iopub.status.busy": "2022-09-11T15:06:04.327047Z",
     "iopub.status.idle": "2022-09-11T15:06:04.700425Z",
     "shell.execute_reply": "2022-09-11T15:06:04.697214Z"
    },
    "papermill": {
     "duration": 0.385929,
     "end_time": "2022-09-11T15:06:04.705945",
     "exception": false,
     "start_time": "2022-09-11T15:06:04.320016",
     "status": "completed"
    },
    "tags": []
   },
   "outputs": [
    {
     "name": "stdout",
     "output_type": "stream",
     "text": [
      "ADF Test Statistic           -43.075618\n",
      "p-value                        0.000000\n",
      "# Used Lag                     2.000000\n",
      "# Number of Observations    5302.000000\n",
      "Name: 0, dtype: float64\n",
      "Reject the Null hypothesis\n",
      "Data is Stationary\n",
      "None\n"
     ]
    }
   ],
   "source": [
    "#For Any model to fit to time series data we need the data in stationary form.\n",
    "#There are many ways to convert the data into stationary form\n",
    "def stationary_sqrt_transform(series):\n",
    "    '''\n",
    "    **Convert Non stationary data to Stationary data and ADF test for Stationarity\n",
    "    \n",
    "    1. Take the series of data as input\n",
    "    2. Take square root of the data\n",
    "    3. Shift the data and take difference between original data and \n",
    "    4. Shifted data both using diff() function in pandas\n",
    "    '''\n",
    "    df_log=np.sqrt(series)\n",
    "    df_diff=df_log.diff().dropna()\n",
    "    print(adf_test(df_diff))\n",
    "    return df_diff\n",
    "df_diff = stationary_sqrt_transform(df['Close'])"
   ]
  },
  {
   "cell_type": "markdown",
   "id": "8f042ce6",
   "metadata": {
    "papermill": {
     "duration": 0.012411,
     "end_time": "2022-09-11T15:06:04.732239",
     "exception": false,
     "start_time": "2022-09-11T15:06:04.719828",
     "status": "completed"
    },
    "tags": []
   },
   "source": [
    "## Time Series Forecasting\n",
    "\n",
    "### AR Model\n",
    "1. In Auto regressive model we try to predict something in the future based on the past values of the same thing. Hence called Auto and as we will predict the continuous values the prediction will be regressive.\n",
    "\n",
    "\n",
    "2. In AR model we try to find the pattern between the relationship between different lag values of the same series. \n",
    "\n",
    "    Eg.<br>\n",
    "    $m_{t}$ -> Milk shipped in this month<br>\n",
    "    $m_{t-1}$ -> Milk shipped in the last month<br>\n",
    "    $m_{t-2}$ -> Milk shipped two months back<br>\n",
    "\n",
    "\n",
    "3. There may be some pattern and relation between current data and lag data for first or second or nth lag but we don't know. This can be found out using **PACF** plot. If value of correlation for particular lag value crosses the significance the lag is useful in building an AR Model"
   ]
  },
  {
   "cell_type": "code",
   "execution_count": 7,
   "id": "b0b7b109",
   "metadata": {
    "execution": {
     "iopub.execute_input": "2022-09-11T15:06:04.762005Z",
     "iopub.status.busy": "2022-09-11T15:06:04.760260Z",
     "iopub.status.idle": "2022-09-11T15:06:05.208833Z",
     "shell.execute_reply": "2022-09-11T15:06:05.207743Z"
    },
    "papermill": {
     "duration": 0.466083,
     "end_time": "2022-09-11T15:06:05.211354",
     "exception": false,
     "start_time": "2022-09-11T15:06:04.745271",
     "status": "completed"
    },
    "tags": []
   },
   "outputs": [
    {
     "name": "stdout",
     "output_type": "stream",
     "text": [
      "Train Data Size =  7010\n",
      "Test Data Size =  778\n",
      "Time Required to Fit the model = 0.002515554428100586\n",
      "                            AutoReg Model Results                             \n",
      "==============================================================================\n",
      "Dep. Variable:                  Close   No. Observations:                 7010\n",
      "Model:                     AutoReg(4)   Log Likelihood              -35783.116\n",
      "Method:               Conditional MLE   S.D. of innovations             39.987\n",
      "Date:                Sun, 11 Sep 2022   AIC                          71578.232\n",
      "Time:                        15:06:04   BIC                          71619.359\n",
      "Sample:                    01-07-2000   HQIC                         71592.403\n",
      "                         - 03-13-2019                                         \n",
      "==============================================================================\n",
      "                 coef    std err          z      P>|z|      [0.025      0.975]\n",
      "------------------------------------------------------------------------------\n",
      "const          1.1183      0.746      1.499      0.134      -0.344       2.581\n",
      "Close.L1       1.0347      0.012     86.644      0.000       1.011       1.058\n",
      "Close.L2      -0.0353      0.017     -2.055      0.040      -0.069      -0.002\n",
      "Close.L3      -0.0307      0.017     -1.784      0.074      -0.064       0.003\n",
      "Close.L4       0.0302      0.012      2.531      0.011       0.007       0.054\n",
      "                                    Roots                                    \n",
      "=============================================================================\n",
      "                  Real          Imaginary           Modulus         Frequency\n",
      "-----------------------------------------------------------------------------\n",
      "AR.1            1.0011           -0.0000j            1.0011           -0.0000\n",
      "AR.2           -3.3271           -0.0000j            3.3271           -0.5000\n",
      "AR.3            1.6701           -2.6726j            3.1515           -0.1611\n",
      "AR.4            1.6701           +2.6726j            3.1515            0.1611\n",
      "-----------------------------------------------------------------------------\n",
      "Start Date For Predictions =  2019-03-15 00:00:00\n",
      "End Date For Predictions =  2021-04-30 00:00:00\n",
      "Mean Absolute Percent Error =  1.1145\n",
      "Root Mean Squared Error =  302.2987803962864\n"
     ]
    },
    {
     "data": {
      "text/plain": [
       "[<matplotlib.lines.Line2D at 0x7f665ef127d0>]"
      ]
     },
     "execution_count": 7,
     "metadata": {},
     "output_type": "execute_result"
    },
    {
     "data": {
      "image/png": "[encoded data removed]",
      "text/plain": [
       "<Figure size 432x288 with 1 Axes>"
      ]
     },
     "metadata": {
      "needs_background": "light"
     },
     "output_type": "display_data"
    }
   ],
   "source": [
    "def build_AR_model(ser,lag):\n",
    "    #SETTING THE FREQUENCY BY INFERRING FROM THE DATA ITSELF\n",
    "    ser = ser.asfreq(pd.infer_freq(df.index))\n",
    "    ser = ser.fillna(method=\"ffill\")\n",
    "    \n",
    "    train_data = ser.iloc[:int(ser.shape[0]*.9)]\n",
    "    print(\"Train Data Size = \",train_data.shape[0])\n",
    "    test_data = ser.iloc[int(ser.shape[0]*.9) + 1:]\n",
    "    print(\"Test Data Size = \",test_data.shape[0])\n",
    "\n",
    "    model = AutoReg(train_data, lags=lag)\n",
    "    \n",
    "    start = time()\n",
    "    model_fit = model.fit()\n",
    "    end = time()\n",
    "    print(\"Time Required to Fit the model =\",end-start)\n",
    "    \n",
    "    print(model_fit.summary())\n",
    "\n",
    "    #Prediction Start and End Date\n",
    "    pred_start_date = test_data.index[0]\n",
    "    pred_end_date = test_data.index[-1]\n",
    "    print(\"Start Date For Predictions = \",pred_start_date)\n",
    "    print(\"End Date For Predictions = \",pred_end_date)\n",
    "\n",
    "    predictions = model_fit.predict(start = pred_start_date,end = pred_end_date)\n",
    "    residuals = test_data - predictions\n",
    "\n",
    "    print(\"Mean Absolute Percent Error = \",round(np.mean(abs(residuals/test_data)),4))\n",
    "    print(\"Root Mean Squared Error = \",np.sqrt(np.mean(residuals**2)))\n",
    "    \n",
    "    return test_data,predictions,residuals\n",
    "test_data,predictions,residuals = build_AR_model(df['Close'],4)\n",
    "\n",
    "test_data.plot()\n",
    "predictions.plot()\n",
    "\n",
    "plt.plot(residuals)\n",
    "\n",
    "\n",
    "\n",
    "\n",
    "\n"
   ]
  },
  {
   "cell_type": "code",
   "execution_count": 8,
   "id": "1d903668",
   "metadata": {
    "execution": {
     "iopub.execute_input": "2022-09-11T15:06:05.225667Z",
     "iopub.status.busy": "2022-09-11T15:06:05.225135Z",
     "iopub.status.idle": "2022-09-11T15:06:05.537737Z",
     "shell.execute_reply": "2022-09-11T15:06:05.536424Z"
    },
    "papermill": {
     "duration": 0.322746,
     "end_time": "2022-09-11T15:06:05.540513",
     "exception": false,
     "start_time": "2022-09-11T15:06:05.217767",
     "status": "completed"
    },
    "tags": []
   },
   "outputs": [
    {
     "name": "stdout",
     "output_type": "stream",
     "text": [
      "Date\n",
      "2000-01-03    243.65\n",
      "2000-01-04    259.10\n",
      "2000-01-05    248.45\n",
      "2000-01-06    261.00\n",
      "2000-01-07    273.30\n",
      "               ...  \n",
      "2019-03-10    281.20\n",
      "2019-03-11    287.35\n",
      "2019-03-12    286.90\n",
      "2019-03-13    293.15\n",
      "2019-03-14    291.90\n",
      "Freq: D, Name: Close, Length: 7011, dtype: float64\n"
     ]
    },
    {
     "data": {
      "text/plain": [
       "<AxesSubplot:>"
      ]
     },
     "execution_count": 8,
     "metadata": {},
     "output_type": "execute_result"
    },
    {
     "data": {
      "image/png": "[encoded data removed]",
      "text/plain": [
       "<Figure size 432x288 with 1 Axes>"
      ]
     },
     "metadata": {
      "needs_background": "light"
     },
     "output_type": "display_data"
    }
   ],
   "source": [
    "## TODO HAS BETTER PERFORMANCE THAN SIMPLE AR MODEL\n",
    "def build_AR_model_with_rolling(ser,lag):\n",
    "    ser = ser.asfreq(pd.infer_freq(df.index))\n",
    "    ser = ser.fillna(method=\"ffill\")\n",
    "    predictions_rolling = pd.Series()\n",
    "    test_data = ser.iloc[int(ser.shape[0]*.9) + 1:]\n",
    "    for end_date in test_data.index:\n",
    "        train_data = ser[:end_date - timedelta(days = 1)]\n",
    "        print(train_data)\n",
    "        model = AutoReg(train_data, lags=lag)\n",
    "        model_fit = model.fit()\n",
    "        pred = model_fit.predict(start = end_date,end = end_date)\n",
    "        predictions_rolling.loc[end_date] = pred.loc[end_date]\n",
    "        return predictions_rolling\n",
    "predictions_rolling = build_AR_model_with_rolling(df['Close'],4)\n",
    "predictions.plot()"
   ]
  },
  {
   "cell_type": "markdown",
   "id": "e7598566",
   "metadata": {
    "papermill": {
     "duration": 0.007046,
     "end_time": "2022-09-11T15:06:05.554310",
     "exception": false,
     "start_time": "2022-09-11T15:06:05.547264",
     "status": "completed"
    },
    "tags": []
   },
   "source": [
    "### MA Model\n",
    "\n",
    "In Moving Average Model. The order 1 MA models looks like this<br><br>\n",
    "$f_{t}$ = µ + Φ1($ε_{t-1}$)\n",
    "\n",
    "as order increases the equation will increase with each order having its own term and coefficients\n",
    "\n"
   ]
  },
  {
   "cell_type": "code",
   "execution_count": 9,
   "id": "ab832c4d",
   "metadata": {
    "execution": {
     "iopub.execute_input": "2022-09-11T15:06:05.569793Z",
     "iopub.status.busy": "2022-09-11T15:06:05.569097Z",
     "iopub.status.idle": "2022-09-11T15:06:14.037622Z",
     "shell.execute_reply": "2022-09-11T15:06:14.036339Z"
    },
    "papermill": {
     "duration": 8.479574,
     "end_time": "2022-09-11T15:06:14.040639",
     "exception": false,
     "start_time": "2022-09-11T15:06:05.561065",
     "status": "completed"
    },
    "tags": []
   },
   "outputs": [
    {
     "name": "stdout",
     "output_type": "stream",
     "text": [
      "Train Data Size =  7010\n",
      "Test Data Size =  778\n",
      "Time Required to Fit the model = 8.122607469558716\n",
      "                               SARIMAX Results                                \n",
      "==============================================================================\n",
      "Dep. Variable:                  Close   No. Observations:                 7010\n",
      "Model:                 ARIMA(0, 0, 2)   Log Likelihood              -48995.571\n",
      "Date:                Sun, 11 Sep 2022   AIC                          97999.143\n",
      "Time:                        15:06:13   BIC                          98026.563\n",
      "Sample:                    01-03-2000   HQIC                         98008.591\n",
      "                         - 03-13-2019                                         \n",
      "Covariance Type:                  opg                                         \n",
      "==============================================================================\n",
      "                 coef    std err          z      P>|z|      [0.025      0.975]\n",
      "------------------------------------------------------------------------------\n",
      "const       1042.9460     11.771     88.601      0.000    1019.875    1066.017\n",
      "ma.L1          1.6473      0.003    616.625      0.000       1.642       1.653\n",
      "ma.L2          0.8829      0.003    344.191      0.000       0.878       0.888\n",
      "sigma2      6.889e+04   1018.408     67.641      0.000    6.69e+04    7.09e+04\n",
      "===================================================================================\n",
      "Ljung-Box (L1) (Q):                4247.83   Jarque-Bera (JB):              2740.44\n",
      "Prob(Q):                              0.00   Prob(JB):                         0.00\n",
      "Heteroskedasticity (H):               2.29   Skew:                             0.47\n",
      "Prob(H) (two-sided):                  0.00   Kurtosis:                         5.92\n",
      "===================================================================================\n",
      "\n",
      "Warnings:\n",
      "[1] Covariance matrix calculated using the outer product of gradients (complex-step).\n",
      "Start Date For Predictions =  2019-03-15 00:00:00\n",
      "End Date For Predictions =  2021-04-30 00:00:00\n",
      "Mean Absolute Percent Error =  3.0281\n",
      "Root Mean Squared Error =  768.7402679381308\n"
     ]
    },
    {
     "data": {
      "text/plain": [
       "[<matplotlib.lines.Line2D at 0x7f665ec49f10>]"
      ]
     },
     "execution_count": 9,
     "metadata": {},
     "output_type": "execute_result"
    },
    {
     "data": {
      "image/png": "[encoded data removed]",
      "text/plain": [
       "<Figure size 432x288 with 1 Axes>"
      ]
     },
     "metadata": {
      "needs_background": "light"
     },
     "output_type": "display_data"
    }
   ],
   "source": [
    "def build_MA_model(ser,lag):\n",
    "    #SETTING THE FREQUENCY BY INFERRING FROM THE DATA ITSELF\n",
    "    ser = ser.asfreq(pd.infer_freq(df.index))\n",
    "    ser = ser.fillna(method=\"ffill\")\n",
    "    \n",
    "    train_data = ser.iloc[:int(ser.shape[0]*.9)]\n",
    "    print(\"Train Data Size = \",train_data.shape[0])\n",
    "    test_data = ser.iloc[int(ser.shape[0]*.9) + 1:]\n",
    "    print(\"Test Data Size = \",test_data.shape[0])\n",
    "\n",
    "    model = sm.tsa.arima.ARIMA(train_data, order=(0,0,2))\n",
    "    \n",
    "    start = time()\n",
    "    model_fit = model.fit()\n",
    "    end = time()\n",
    "    print(\"Time Required to Fit the model =\",end-start)\n",
    "    \n",
    "    print(model_fit.summary())\n",
    "\n",
    "    #Prediction Start and End Date\n",
    "    pred_start_date = test_data.index[0]\n",
    "    pred_end_date = test_data.index[-1]\n",
    "    print(\"Start Date For Predictions = \",pred_start_date)\n",
    "    print(\"End Date For Predictions = \",pred_end_date)\n",
    "\n",
    "    predictions = model_fit.predict(start = pred_start_date,end = pred_end_date)\n",
    "    residuals = test_data - predictions\n",
    "\n",
    "    print(\"Mean Absolute Percent Error = \",round(np.mean(abs(residuals/test_data)),4))\n",
    "    print(\"Root Mean Squared Error = \",np.sqrt(np.mean(residuals**2)))\n",
    "    \n",
    "    return test_data,predictions,residuals#create the model\n",
    "test_data,predictions,residuals = build_MA_model(df['Close'],4)\n",
    "test_data.plot()\n",
    "predictions.plot()\n",
    "\n",
    "plt.plot(residuals)"
   ]
  },
  {
   "cell_type": "code",
   "execution_count": null,
   "id": "4af0cc3d",
   "metadata": {
    "papermill": {
     "duration": 0.007193,
     "end_time": "2022-09-11T15:06:14.055462",
     "exception": false,
     "start_time": "2022-09-11T15:06:14.048269",
     "status": "completed"
    },
    "tags": []
   },
   "outputs": [],
   "source": []
  }
 ],
 "metadata": {
  "kernelspec": {
   "display_name": "Python 3",
   "language": "python",
   "name": "python3"
  },
  "language_info": {
   "codemirror_mode": {
    "name": "ipython",
    "version": 3
   },
   "file_extension": ".py",
   "mimetype": "text/x-python",
   "name": "python",
   "nbconvert_exporter": "python",
   "pygments_lexer": "ipython3",
   "version": "3.7.12"
  },
  "papermill": {
   "default_parameters": {},
   "duration": 23.968525,
   "end_time": "2022-09-11T15:06:14.885935",
   "environment_variables": {},
   "exception": null,
   "input_path": "__notebook__.ipynb",
   "output_path": "__notebook__.ipynb",
   "parameters": {},
   "start_time": "2022-09-11T15:05:50.917410",
   "version": "2.3.4"
  }
 },
 "nbformat": 4,
 "nbformat_minor": 5
}
